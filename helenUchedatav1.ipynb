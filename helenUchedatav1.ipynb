{
 "cells": [
  {
   "cell_type": "code",
   "execution_count": 29,
   "id": "0fb30b27",
   "metadata": {},
   "outputs": [],
   "source": [
    "# Libraries\n",
    "# Data\n",
    "from sklearn import datasets\n",
    "# Data manipulation\n",
    "import numpy as np \n",
    "import pandas as pd\n",
    "import dateutil \n",
    "import requests \n",
    "import csv\n",
    "# Plotting\n",
    "import matplotlib.pyplot as plt\n",
    " \n",
    "#import FormatStrFormatter \n",
    "import seaborn as sns\n",
    "sns.set(font_scale = 1.5)\n"
   ]
  },
  {
   "cell_type": "code",
   "execution_count": 31,
   "id": "9c15d4b4",
   "metadata": {},
   "outputs": [
    {
     "ename": "FileNotFoundError",
     "evalue": "[Errno 2] No such file or directory: 'life-expectancy-by-local-authority-time-series-v1.xlsx'",
     "output_type": "error",
     "traceback": [
      "\u001b[0;31m---------------------------------------------------------------------------\u001b[0m",
      "\u001b[0;31mFileNotFoundError\u001b[0m                         Traceback (most recent call last)",
      "\u001b[0;32m/var/folders/lm/jsf22j9d6ygb3t0s09dkct600000gp/T/ipykernel_48624/1321012170.py\u001b[0m in \u001b[0;36m<module>\u001b[0;34m\u001b[0m\n\u001b[0;32m----> 1\u001b[0;31m \u001b[0mdata\u001b[0m \u001b[0;34m=\u001b[0m \u001b[0mpd\u001b[0m\u001b[0;34m.\u001b[0m\u001b[0mread_excel\u001b[0m\u001b[0;34m(\u001b[0m\u001b[0mopen\u001b[0m\u001b[0;34m(\u001b[0m\u001b[0;34m'life-expectancy-by-local-authority-time-series-v1.xlsx'\u001b[0m\u001b[0;34m,\u001b[0m\u001b[0;34m'rb'\u001b[0m\u001b[0;34m)\u001b[0m\u001b[0;34m,\u001b[0m\u001b[0msheet_name\u001b[0m\u001b[0;34m-\u001b[0m\u001b[0;34m\"sheet 1\"\u001b[0m\u001b[0;34m)\u001b[0m\u001b[0;34m\u001b[0m\u001b[0;34m\u001b[0m\u001b[0m\n\u001b[0m\u001b[1;32m      2\u001b[0m  \u001b[0;31m#df = sns.load_dataset('life-expectancy-by-local-authority-time-series-v1')\u001b[0m\u001b[0;34m\u001b[0m\u001b[0;34m\u001b[0m\u001b[0m\n\u001b[1;32m      3\u001b[0m \u001b[0;34m\u001b[0m\u001b[0m\n\u001b[1;32m      4\u001b[0m \u001b[0mdata\u001b[0m\u001b[0;34m.\u001b[0m\u001b[0mplot\u001b[0m\u001b[0;34m(\u001b[0m\u001b[0;34m)\u001b[0m\u001b[0;34m\u001b[0m\u001b[0;34m\u001b[0m\u001b[0m\n\u001b[1;32m      5\u001b[0m \u001b[0mplt\u001b[0m\u001b[0;34m.\u001b[0m\u001b[0mshow\u001b[0m\u001b[0;34m(\u001b[0m\u001b[0;34m)\u001b[0m\u001b[0;34m\u001b[0m\u001b[0;34m\u001b[0m\u001b[0m\n",
      "\u001b[0;31mFileNotFoundError\u001b[0m: [Errno 2] No such file or directory: 'life-expectancy-by-local-authority-time-series-v1.xlsx'"
     ]
    }
   ],
   "source": [
    "\n",
    "data = pd.read_excel(open('life-expectancy-by-local-authority-time-series-v1.xlsx','rb'),sheet_name-\"sheet 1\") \n",
    " #df = sns.load_dataset('life-expectancy-by-local-authority-time-series-v1')\n",
    "\n",
    "data.plot()\n",
    "plt.show()"
   ]
  },
  {
   "cell_type": "code",
   "execution_count": 26,
   "id": "36edcd33",
   "metadata": {},
   "outputs": [
    {
     "ename": "FileNotFoundError",
     "evalue": "[Errno 2] No such file or directory: 'life-expectancy-by-local-authority-time-series-v1.xlsx'",
     "output_type": "error",
     "traceback": [
      "\u001b[0;31m---------------------------------------------------------------------------\u001b[0m",
      "\u001b[0;31mFileNotFoundError\u001b[0m                         Traceback (most recent call last)",
      "\u001b[0;32m/var/folders/lm/jsf22j9d6ygb3t0s09dkct600000gp/T/ipykernel_48624/2702771446.py\u001b[0m in \u001b[0;36m<module>\u001b[0;34m\u001b[0m\n\u001b[1;32m      1\u001b[0m \u001b[0;31m#Creating the dataset\u001b[0m\u001b[0;34m\u001b[0m\u001b[0;34m\u001b[0m\u001b[0m\n\u001b[1;32m      2\u001b[0m \u001b[0;31m#pd.read_excel(open('tmp.xlsx', 'rb'),\u001b[0m\u001b[0;34m\u001b[0m\u001b[0;34m\u001b[0m\u001b[0m\n\u001b[0;32m----> 3\u001b[0;31m \u001b[0mdf\u001b[0m \u001b[0;34m=\u001b[0m \u001b[0mpd\u001b[0m\u001b[0;34m.\u001b[0m\u001b[0mread_excel\u001b[0m\u001b[0;34m(\u001b[0m\u001b[0mopen\u001b[0m\u001b[0;34m(\u001b[0m\u001b[0;34m'life-expectancy-by-local-authority-time-series-v1.xlsx'\u001b[0m\u001b[0;34m,\u001b[0m\u001b[0;34m'rb'\u001b[0m\u001b[0;34m)\u001b[0m\u001b[0;34m,\u001b[0m\u001b[0msheet_na\u001b[0m\u001b[0;34m=\u001b[0m\u001b[0;34m'2001-03'\u001b[0m\u001b[0;34m)\u001b[0m \u001b[0;31m#df = sns.load_dataset('life-expectancy-by-local-authority-time-series-v1')\u001b[0m\u001b[0;34m\u001b[0m\u001b[0;34m\u001b[0m\u001b[0m\n\u001b[0m\u001b[1;32m      4\u001b[0m \u001b[0;31m#Creating the bar chart\u001b[0m\u001b[0;34m\u001b[0m\u001b[0;34m\u001b[0m\u001b[0m\n\u001b[1;32m      5\u001b[0m \u001b[0;34m\u001b[0m\u001b[0m\n",
      "\u001b[0;31mFileNotFoundError\u001b[0m: [Errno 2] No such file or directory: 'life-expectancy-by-local-authority-time-series-v1.xlsx'"
     ]
    }
   ],
   "source": [
    "#Creating the dataset\n",
    "#pd.read_excel(open('tmp.xlsx', 'rb'),\n",
    "df = pd.read_excel(open('life-expectancy-by-local-authority-time-series-v1.xlsx','rb'),sheet_na='2001-03') #df = sns.load_dataset('life-expectancy-by-local-authority-time-series-v1')\n",
    "#Creating the bar chart\n",
    "\n",
    "#plt.bar(df['AgeGroups'],df['2001-03'],color = ['#F0F8FF','#E6E6FA','#B0E0E6'])\n",
    "#plt.bar(x, height, width, bottom, align)                   \n",
    "#Adding the aesthetics\n",
    "#plt.title('age Groups by total')\n",
    "#plt.xlabel('2011-13')\n",
    "#plt.ylabel('AgeGroups')\n",
    "                   "
   ]
  },
  {
   "cell_type": "code",
   "execution_count": 18,
   "id": "eab846e4",
   "metadata": {},
   "outputs": [
    {
     "ename": "SyntaxError",
     "evalue": "invalid syntax (3495714730.py, line 5)",
     "output_type": "error",
     "traceback": [
      "\u001b[0;36m  File \u001b[0;32m\"/var/folders/lm/jsf22j9d6ygb3t0s09dkct600000gp/T/ipykernel_48624/3495714730.py\"\u001b[0;36m, line \u001b[0;32m5\u001b[0m\n\u001b[0;31m    X = list(df.iloc[:, 0])\u001b[0m\n\u001b[0m    ^\u001b[0m\n\u001b[0;31mSyntaxError\u001b[0m\u001b[0;31m:\u001b[0m invalid syntax\n"
     ]
    }
   ],
   "source": [
    "\n",
    "\n",
    "  \n",
    "# Initialize the lists for X and Y\n",
    "\n",
    "df1 = pd.DataFrame(df\n",
    "  \n",
    "X = list(df.iloc[:, 0])\n",
    "Y = list(df.iloc[:, 1])\n",
    "  \n",
    "# Plot the data using bar() method\n",
    "plt.bar(X, Y, color='g')\n",
    "plt.title(\"Students over 11 Years\")\n",
    "plt.xlabel(\"Years\")\n",
    "plt.ylabel(\"Number of Students\")\n",
    "  \n",
    "# Show the plot\n",
    "plt.show()"
   ]
  },
  {
   "cell_type": "code",
   "execution_count": null,
   "id": "269acae9",
   "metadata": {},
   "outputs": [],
   "source": []
  }
 ],
 "metadata": {
  "kernelspec": {
   "display_name": "Python 3 (ipykernel)",
   "language": "python",
   "name": "python3"
  },
  "language_info": {
   "codemirror_mode": {
    "name": "ipython",
    "version": 3
   },
   "file_extension": ".py",
   "mimetype": "text/x-python",
   "name": "python",
   "nbconvert_exporter": "python",
   "pygments_lexer": "ipython3",
   "version": "3.9.7"
  }
 },
 "nbformat": 4,
 "nbformat_minor": 5
}
